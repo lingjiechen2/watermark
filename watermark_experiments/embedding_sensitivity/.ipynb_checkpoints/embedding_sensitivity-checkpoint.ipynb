{
 "cells": [
  {
   "cell_type": "code",
   "execution_count": 30,
   "id": "f620df5f-dcc0-4b42-87bb-1b9055480220",
   "metadata": {},
   "outputs": [],
   "source": [
    "import os\n",
    "import json\n",
    "import time\n",
    "from openai import OpenAI\n",
    "from random import seed, shuffle\n",
    "from collections import Counter\n",
    "from tqdm import tqdm\n",
    "import numpy as np\n",
    "from pprint import pprint\n",
    "from datasets import load_dataset\n",
    "from langchain_openai import ChatOpenAI\n",
    "from langchain.prompts import ChatPromptTemplate\n",
    "import GET_API_KEY import GET_OPENAI_API_KEY"
   ]
  },
  {
   "cell_type": "code",
   "execution_count": 25,
   "id": "43d1b159-184d-4fa7-8e56-dd0938eb6302",
   "metadata": {},
   "outputs": [],
   "source": [
    "gpt4_name = 'gpt-4-0613'\n",
    "temperature = 0.0\n",
    "openai_api_key = GET_OPENAI_API_KEY()\n",
    "gpt4 = ChatOpenAI(model_name=gpt4_name, temperature=temperature,\n",
    "                    openai_api_key=openai_api_key, request_timeout=120)\n",
    "\n",
    "client = OpenAI(\n",
    "    api_key = openai_api_key,\n",
    ")"
   ]
  },
  {
   "cell_type": "code",
   "execution_count": 26,
   "id": "bd463001-6de9-4210-a07c-5f3ee15268fc",
   "metadata": {},
   "outputs": [],
   "source": [
    "def compute_embedding(model_name,_input):\n",
    "    response = client.embeddings.create(\n",
    "    model=model_name,\n",
    "    input=_input\n",
    "    )\n",
    "    return response.data[0].embedding"
   ]
  },
  {
   "cell_type": "code",
   "execution_count": 6,
   "id": "73f6aec3-81b2-488c-a76b-caf69b49cb08",
   "metadata": {},
   "outputs": [
    {
     "data": {
      "application/vnd.jupyter.widget-view+json": {
       "model_id": "0bf142f1db6d44d2958cad6627f84d33",
       "version_major": 2,
       "version_minor": 0
      },
      "text/plain": [
       "Resolving data files:   0%|          | 0/1024 [00:00<?, ?it/s]"
      ]
     },
     "metadata": {},
     "output_type": "display_data"
    },
    {
     "name": "stderr",
     "output_type": "stream",
     "text": [
      "Using the latest cached version of the dataset since allenai/c4 couldn't be found on the Hugging Face Hub\n",
      "Found the latest cached dataset configuration 'realnewslike' at /home/ShenChenchen/.cache/huggingface/datasets/allenai___c4/realnewslike/0.0.0/1588ec454efa1a09f29cd18ddd04fe05fc8653a2 (last modified on Tue Mar 26 12:00:09 2024).\n"
     ]
    },
    {
     "data": {
      "application/vnd.jupyter.widget-view+json": {
       "model_id": "4aa3ac75f5a648baba66a81203f04c9c",
       "version_major": 2,
       "version_minor": 0
      },
      "text/plain": [
       "Loading dataset shards:   0%|          | 0/76 [00:00<?, ?it/s]"
      ]
     },
     "metadata": {},
     "output_type": "display_data"
    }
   ],
   "source": [
    "dataset = load_dataset(\"allenai/c4\", \"realnewslike\")"
   ]
  },
  {
   "cell_type": "code",
   "execution_count": 31,
   "id": "adbaeb97-80f5-48ef-a341-8a0bbcc3c689",
   "metadata": {},
   "outputs": [
    {
     "name": "stderr",
     "output_type": "stream",
     "text": [
      "Paraphrasing: 100%|███████████████████████████████████████████████████████████████████████████████████████████████████████████████████████████████████████████████████████| 3/3 [02:20<00:00, 46.97s/it]\n"
     ]
    }
   ],
   "source": [
    "batch_size = 10\n",
    "epoch = 30\n",
    "paraphrase_prompt_string = \"You need to be an expert in linguistics. I will give you a paragraph as input, and you need to paraphrase this input. You should keep the original meaning while making substitution to the sentence's structure and words. [INPUT]{input} [OUTPUT]\"\n",
    "paraphrase_prompt = ChatPromptTemplate.from_template(paraphrase_prompt_string)\n",
    "_input_list = []\n",
    "for text in dataset['validation']['text'][:epoch]:\n",
    "    _input_list.append(paraphrase_prompt.format_messages(input = text))\n",
    "\n",
    "\n",
    "_output_list = []\n",
    "for batch_id in tqdm(range(0, len(_input_list), batch_size), desc=\"Paraphrasing\"):\n",
    "    _input_batch = _input_list[batch_id:batch_id + batch_size]\n",
    "    _outputs = [out.content for out in gpt4.batch(_input_batch)]\n",
    "    _output_list.extend(_outputs)\n"
   ]
  },
  {
   "cell_type": "code",
   "execution_count": 32,
   "id": "78c142b6-9a44-4de7-8e2f-ef7e1724c679",
   "metadata": {},
   "outputs": [],
   "source": [
    "_embedding_list = []\n",
    "for _input in _output_list:\n",
    "    _embedding_list.append(compute_embedding(model_name='text-embedding-3-small', _input = _input))"
   ]
  },
  {
   "cell_type": "code",
   "execution_count": 35,
   "id": "6791eabc-9701-4230-8fa9-a778cff79438",
   "metadata": {},
   "outputs": [
    {
     "data": {
      "text/plain": [
       "30"
      ]
     },
     "execution_count": 35,
     "metadata": {},
     "output_type": "execute_result"
    }
   ],
   "source": [
    "def embedding_similarity_calc(original_text_embedding_list, paraphrased_text_embedding_list):\n",
    "    assert len(original_text_embedding_list) == len(paraphrased_text_embedding_list), \"Two datasets have different length\"\n",
    "    for i in range(len(original_text_embedding_list)):\n",
    "        vector_a = np.array(original_text_embedding_list[i])\n",
    "        vector_b = np.array(paraphrased_text_embedding_list[i])\n",
    "        two_norm = np.linnp.norm(vector_a - vector_b)\n",
    "        cosine_similarity = np.dot(vector_a, vector_b) / (np.linalg.norm(vector_a) * np.linalg.norm(vector_b))\n"
   ]
  },
  {
   "cell_type": "code",
   "execution_count": 18,
   "id": "1ac448aa-e910-4936-98d4-456653fe611d",
   "metadata": {},
   "outputs": [
    {
     "name": "stdout",
     "output_type": "stream",
     "text": [
      "The cluster includes IBM's eServer 325 server, which is based on Opteron, along with systems management software and storage devices that are compatible with both Linux and Windows operating systems. IBM announced on Tuesday a preassembled and pretested cluster powered by Advanced Micro Devices Inc.'s 64-bit Opteron processor. IBM, located in Armonk, N.Y., is merging its Opteron-based eServer 325 server, aimed at scientific and technical computing users, with systems management software and storage devices to provide a comprehensive package that supports Linux and Windows operating systems. This new product, which will be available later this month or in early December, is a part of IBM's eServer Cluster 1350, which also includes bundles based on the company's BladeCenter blade servers and dual-processor x335 and x345 systems using Intel Corp.'s 32-bit Xeon chips. Clusters are made up of multiple servers connected together to create a supercomputing environment for users. In a related development, IBM announced last week that it was partnering with Corning Inc., the U.S. Department of Energy, and the National Nuclear Security Administration to develop high-speed, optically switched interconnects for supercomputers. This project, costing $20 million and lasting two and a half years, aims to increase network bandwidth by 50 times while simultaneously reducing the costs of supercomputers. IBM's 325 systems, powered by 2GHz Opterons, allow users to run both their 32-bit and 64-bit applications on a single platform, which is crucial for mixed-use environments, according to David Turek, vice president of IBM's Deep Computing unit. AMD, based in Sunnyvale, Calif., has promoted Opteron's ability to run 32-bit applications as well as 64-bit applications as a key distinguishing feature between it and Intel's Itanium architecture. The 64-bit Itanium chip has limited backward compatibility, meaning it does not run 32-bit applications as well as 64-bit software. With the latest Itanium 2 released this summer, Intel officials, based in Santa Clara, Calif., were promoting the company's IA-32 Execution Layer, designed to bridge that performance gap. Intel, which has promoted Xeon-based systems for 32-bit applications and Itanium for 64-bit computing, sees the execution layer as a way to assist customers who want to transition to 64-bit computing but still have older 32-bit applications running. On Monday, Intel officials announced that a software update from Microsoft Corp. that includes the execution layer for Windows applications has been postponed until the second half of next year. However, they said that Linux vendors, including Red Hat Inc. and SuSE Linux AG, are both incorporating the execution layer code in their offerings. Gordon Haff, an analyst with Illuminata Inc., said Opteron's adoption path is mirroring that of the older Itanium technology. \"There's a lot of interest in Opteron in [the high-performance computing space]; it's nearly exclusively in HPC,\" said Haff, in Nashua, N.H. \"It's a good performing chip, and that's pretty much what HPC [customers are] looking for.\" While backward compatibility with 32-bit applications may make Opteron more attractive in the commercial space, HPC users are more interested in performance, he said. Turek agreed. \"The Intel name carries a lot of weight in the industry,\" he said. That said, HPC and technical computing customers tend to be among the early adopters of new technology. \"They're searching for the best technology without so much regard for the brand,\" he said. The Opteron cluster offering includes IBM Cluster Management Software, which aims to avoid problems and speed up the resolution of problems that do occur by automating repetitive tasks and error detection. Also included in the cluster package is a new Linux Cluster Install Tool, which automates much of the installation work, IBM officials said. In the supercomputing interconnect project, Cornings Science & Technology Division, in Corning, N.Y., will create a prototype for an optically switched interconnect. IBM Research Labs in the United States and Switzerland will build the systems electronic control and monitoring circuitry.\n",
      "====================================================================================================\n",
      "Cluster comprises IBM's Opteron-based eServer 325 server and systems management software and storage devices that can run Linux and Windows operating systems.\n",
      "IBM on Tuesday announced a prepackaged and pretested cluster that is powered by Advanced Micro Devices Inc.s 64-bit Opteron processor.\n",
      "IBM, of Armonk, N.Y., is combining its Opteron-based eServer 325 server—which targets scientific and technical computing users—with systems management software and storage devices to offer a bundled package that can run Linux and Windows operating systems.\n",
      "The new offering, which will be available later this month or in early December, is part of IBMs eServer Cluster 1350, which also includes bundles based on the companys BladeCenter blade servers and two-processor x335 and x345 systems using Intel Corp.s 32-bit Xeon chips.\n",
      "Clusters comprise multiple servers tied together to create a supercomputing environment for users. In a related move, IBM last week announced that it was teaming with Corning Inc., the U.S. Department of Energy and the National Nuclear Security Administration to develop high-speed, optically switched interconnects for supercomputers. The $20 million, two-and-a-half-year project is aimed at increasing network bandwidth by 50 times while at the same time cutting the costs of supercomputers.\n",
      "IBMs 325 systems, powered by 2GHz Opterons, give users a chance to run both their 32-bit and 64-bit applications on a single platform, which is important for mixed-use environments, said David Turek, vice president of IBMs Deep Computing unit.\n",
      "\"For many of these users, who have been left with a stark choice—you either run 32-bit or 64-bit—Opteron is an interesting bridge between the two,\" Turek said. \"Its an attractive proposition.\"\n",
      "AMD, of Sunnyvale, Calif., has pushed Opterons ability to run 32-bit applications as well as it does 64-bit applications as a key differentiator between it and Intels Itanium architecture. The 64-bit Itanium chip maintains a limited amount of backward compatibility, which means that it does not run the 32-bit applications as well as it does the 64-bit software.\n",
      "With the latest Itanium 2 released this summer, officials with Intel, of Santa Clara, Calif., were promoting the companys IA-32 Execution Layer, designed to bridge that performance gap. Intel, which has pushed Xeon-based systems for 32-bit applications and Itanium for 64-bit computing, views the execution layer as a way of helping customers who want to move to 64-bit computing but still have older 32-bit applications running.\n",
      "On Monday, Intel officials said that a software update from Microsoft Corp. that includes the execution layer for Windows applications has been delayed until the second half of next year. However, they said that Linux vendors, including Red Hat Inc. and SuSE Linux AG, both are incorporating the execution layer code in their offerings.\n",
      "/zimages/3/28571.gifRead \"MS Delay Hinders Itanium Software Upgrade.\"\n",
      "Gordon Haff, an analyst with Illuminata Inc., said Opterons adoption path is mirroring that of the older Itanium technology.\n",
      "\"Theres a lot of interest in Opteron in [the high-performance computing space]; its nearly exclusively in HPC,\" said Haff, in Nashua, N.H. \"Its a good performing chip, and thats pretty much what HPC [customers are] looking for.\"\n",
      "While backward compatibility with 32-bit applications may make Opteron more attractive in the commercial space, HPC users are more interested in performance, he said.\n",
      "Turek agreed. \"The Intel name carries a lot of weight in the industry,\" he said. That said, HPC and technical computing customers tend to be among the early adopters of new technology.\n",
      "\"Theyre searching for the best technology without so much regard for the brand,\" he said.\n",
      "The Opteron cluster offering includes IBM Cluster Management Software, which aims to avoid problems and speed up the resolution of problems that do occur by automating repetitive tasks and error detection.\n",
      "Also included in the cluster package is a new Linux Cluster Install Tool, which automates much of the installation work, IBM officials said.\n",
      "In the supercomputing interconnect project, Cornings Science & Technology Division, in Corning, N.Y., will create a prototype for an optically switched interconnect. IBM Research Labs in the United States and Switzerland will build the systems electronic control and monitoring circuitry.\n"
     ]
    }
   ],
   "source": [
    "len(_output_list)\n",
    "print(_output_list[0])\n",
    "print(\"=\"*100)\n",
    "print(dataset['validation']['text'][0])"
   ]
  }
 ],
 "metadata": {
  "kernelspec": {
   "display_name": "Python 3 (ipykernel)",
   "language": "python",
   "name": "python3"
  },
  "language_info": {
   "codemirror_mode": {
    "name": "ipython",
    "version": 3
   },
   "file_extension": ".py",
   "mimetype": "text/x-python",
   "name": "python",
   "nbconvert_exporter": "python",
   "pygments_lexer": "ipython3",
   "version": "3.11.5"
  }
 },
 "nbformat": 4,
 "nbformat_minor": 5
}
