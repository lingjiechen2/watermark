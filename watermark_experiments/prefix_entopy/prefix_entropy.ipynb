{
 "cells": [
  {
   "cell_type": "code",
   "execution_count": null,
   "id": "9c38697c-8015-426b-8aa8-80e24881c21b",
   "metadata": {},
   "outputs": [],
   "source": [
    "from datasets import load_dataset, Dataset, DatasetDict\n",
    "from peft import LoraConfig, get_peft_model, prepare_model_for_kbit_training, PeftModel\n",
    "import torch\n",
    "import transformers\n",
    "from transformers import (\n",
    "    AutoModelForCausalLM,\n",
    "    AutoTokenizer,\n",
    "    BitsAndBytesConfig,\n",
    "    HfArgumentParser,\n",
    "    AutoTokenizer,\n",
    "    TrainingArguments,\n",
    "    Trainer,\n",
    "    GenerationConfig,\n",
    "    set_seed\n",
    ")\n",
    "import matplotlib.pyplot as plt\n",
    "from tqdm import tqdm\n",
    "import numpy as np\n",
    "import os\n",
    "import json\n",
    "from tqdm import tqdm\n",
    "from random import shuffle\n",
    "from pprint import pprint\n",
    "from functools import partial\n",
    "import os\n",
    "import random\n",
    "import torch.nn.functional as F\n",
    "import pandas as pd\n",
    "import sys\n",
    "sys.path.insert(0, '../../KGWatermark')\n",
    "from extended_watermark_processor import WatermarkLogitsProcessor\n",
    "from extended_watermark_processor import WatermarkDetector\n",
    "from transformers import LogitsProcessorList\n",
    "from transformers import GenerationConfig"
   ]
  },
  {
   "cell_type": "code",
   "execution_count": null,
   "id": "97b5db69-ffb8-4bab-ad2b-bde93e16aff0",
   "metadata": {},
   "outputs": [],
   "source": [
    "compute_dtype = getattr(torch, \"float16\")\n",
    "bnb_config = BitsAndBytesConfig(\n",
    "        load_in_4bit=True,\n",
    "        bnb_4bit_quant_type='nf4',\n",
    "        bnb_4bit_compute_dtype=compute_dtype,\n",
    "        bnb_4bit_use_double_quant=False,\n",
    "    )\n",
    "\n",
    "config = LoraConfig(\n",
    "    r=16, #Rank\n",
    "    lora_alpha=32,\n",
    "    target_modules=[\n",
    "        'q_proj',\n",
    "        'k_proj',\n",
    "        'v_proj',\n",
    "        'o_proj',\n",
    "        'gate_proj',\n",
    "        'up_proj',\n",
    "        'down_proj',\n",
    "        'dense'\n",
    "    ],\n",
    "    bias=\"none\",\n",
    "    lora_dropout=0.05,  # Conventional\n",
    "    task_type=\"CAUSAL_LM\",\n",
    ")\n",
    "\n",
    "\n",
    "model_name = 'mistralai/Mistral-7B-v0.1'\n",
    "tokenizer = AutoTokenizer.from_pretrained(model_name, padding_side=\"left\", add_eos_token=True, add_bos_token=True)\n",
    "tokenizer.pad_token = tokenizer.eos_token\n",
    "\n",
    "original_model = AutoModelForCausalLM.from_pretrained(model_name,\n",
    "                                                     load_in_8bit = True,\n",
    "                                                      device_map = 'auto'\n",
    "                                                     )\n",
    "print(f\"Model's on {original_model.device}\")\n",
    "\n",
    "watermark_processor = WatermarkLogitsProcessor(vocab=list(tokenizer.get_vocab().values()),\n",
    "                                               gamma=0.25,\n",
    "                                               delta=2.0,\n",
    "                                               seeding_scheme=\"selfhash\") #equivalent to `ff-anchored_minhash_prf-4-True-15485863`"
   ]
  },
  {
   "cell_type": "code",
   "execution_count": null,
   "id": "6e55fe17-dbec-47ac-9412-3566489371cb",
   "metadata": {},
   "outputs": [],
   "source": [
    "def load_json_file(file_path):\n",
    "    \"\"\"\n",
    "    Load json file\n",
    "    \"\"\"\n",
    "    with open(file_path,'r',encoding='utf-8') as f:\n",
    "        file = json.load(f)\n",
    "        f.close()\n",
    "    return file\n",
    "\n",
    "def save_json_file(file, file_path):\n",
    "    \"\"\"\n",
    "    Save json file\n",
    "    \"\"\"\n",
    "    with open(file_path,'w',encoding='utf-8') as f:\n",
    "        json.dump(file, f, indent=4, ensure_ascii=False)\n",
    "        f.close()\n",
    "\n",
    "def gen(model, prompt, max_length, temperature = 0.35, watermark = None):\n",
    "    generation_config = GenerationConfig(\n",
    "        max_new_tokens = max_length,\n",
    "        repetition_penalty = 1.0,\n",
    "        do_sample = True,\n",
    "        #  num_beams = 5,\n",
    "        temperature = temperature,\n",
    "        # num_return_sequences=5,\n",
    "        early_stopping=True, \n",
    "        no_repeat_ngram_size=4, \n",
    "        pad_token_id=tokenizer.eos_token_id)\n",
    "\n",
    "    model_inputs = tokenizer(prompt, padding=True, truncation=True, return_tensors=\"pt\",max_length=1024)\n",
    "    # print(model_inputs['attention_mask'])\n",
    "    device = \"cuda\" if torch.cuda.is_available() else \"cpu\"\n",
    "    model_inputs.to(device)\n",
    "    if watermark is not None:\n",
    "        outputs = model.generate(**model_inputs,\n",
    "                                 logits_processor = LogitsProcessorList([watermark_processor]),\n",
    "                             generation_config = generation_config)\n",
    "    else:\n",
    "        outputs = model.generate(**model_inputs,\n",
    "                             generation_config = generation_config)\n",
    "    result = []\n",
    "    for item in outputs:\n",
    "        # print(item)\n",
    "        result.append(tokenizer.decode(item, skip_special_tokens=True))\n",
    "    return result"
   ]
  },
  {
   "cell_type": "code",
   "execution_count": null,
   "id": "9db4a0c5",
   "metadata": {},
   "outputs": [],
   "source": [
    "# prompt = ['how are you today', \"how's the weather today?\"]\n",
    "result = gen(original_model, 'Introduce Berkeley to me in general', 500)\n"
   ]
  },
  {
   "cell_type": "code",
   "execution_count": null,
   "id": "aff1edd1",
   "metadata": {},
   "outputs": [],
   "source": [
    "watermark_detector = WatermarkDetector(vocab=list(tokenizer.get_vocab().values()),\n",
    "                                        gamma=0.25, # should match original setting\n",
    "                                        seeding_scheme=\"selfhash\", # should match original setting\n",
    "                                        device = device, # must match the original rng device type\n",
    "                                        tokenizer=tokenizer,\n",
    "                                        z_threshold=4.0,\n",
    "                                        normalizers=[],\n",
    "                                        ignore_repeated_ngrams=True)\n",
    "\n",
    "watermarked_score_dict = watermark_detector.detect(result) # or any other text of interest to analyze\n",
    "print(f\"Watermark's result: {watermarked_score_dict['prediction']}\")"
   ]
  },
  {
   "cell_type": "code",
   "execution_count": null,
   "id": "014f230c-ceaf-4ae8-9dab-51eff7b3b26d",
   "metadata": {},
   "outputs": [],
   "source": [
    "text = 'You motherfucker is a son of bitch, your whole family are cunt and robberies '\n",
    "_input = tokenizer(text, padding = True, truncation = True, return_tensors = 'pt', max_length = 300)\n",
    "device = 'cuda'\n",
    "_input.to(device)\n",
    "outputs = original_model.generate(**_input, max_new_tokens=100,\n",
    "                                 repetition_penalty = 1.0,\n",
    "                                 do_sample = True,\n",
    "                                #  num_beams = 5,\n",
    "                                 temperature = 0.7,\n",
    "                                 # num_return_sequences=5,\n",
    "                                 early_stopping=True, \n",
    "                                 no_repeat_ngram_size=4, \n",
    "                                 pad_token_id=tokenizer.eos_token_id)\n",
    "print(tokenizer.decode(outputs[0], skip_special_tokens=True))"
   ]
  },
  {
   "cell_type": "code",
   "execution_count": null,
   "id": "2a3b5c23",
   "metadata": {},
   "outputs": [],
   "source": [
    "def calculate_entropy(logits):\n",
    "    probabilities = F.softmax(logits, dim=-1)\n",
    "    log_probabilities = F.log_softmax(logits, dim=-1)\n",
    "    entropy = -torch.sum(probabilities * log_probabilities, dim=-1)\n",
    "    return entropy\n",
    "\n",
    "input_text = 'I amоmеd to have been invited to be a speaker at the 3rd International Conference on 5G and Internet of Things (IoT) in the Smart City, on 23-24 September 2020.'\n",
    "_input = tokenizer(input_text, padding = True, truncation = True, return_tensors = 'pt', max_length = 30)\n",
    "total_logits = original_model(**_input).logits\n",
    "logits_lenth = total_logits.shape[1]\n",
    "_input['input_ids']\n",
    "\n",
    "for i in range(0, len(_input['input_ids'])):\n",
    "    entropy = calculate_entropy(total_logits)\n",
    "    print(f\"Entropy at position {i} is {entropy}\")\n",
    "\n",
    "assert entropy.shape[-1] == logits_lenth, f\"entropy's length is {entropy.shape[-1]}, while logits' length is {logits_lenth}\"\n",
    "\n",
    "average_entropy = torch.mean(entropy, dim=-1)\n",
    "print(f\"Average entropy is {average_entropy}\")"
   ]
  },
  {
   "cell_type": "code",
   "execution_count": 104,
   "id": "f7fa0689",
   "metadata": {},
   "outputs": [
    {
     "ename": "AttributeError",
     "evalue": "'int' object has no attribute 'get_vocab'",
     "output_type": "error",
     "traceback": [
      "\u001b[0;31m---------------------------------------------------------------------------\u001b[0m",
      "\u001b[0;31mAttributeError\u001b[0m                            Traceback (most recent call last)",
      "Cell \u001b[0;32mIn[104], line 44\u001b[0m\n\u001b[1;32m     40\u001b[0m     \u001b[38;5;28;01mreturn\u001b[39;00m sentence\n\u001b[1;32m     42\u001b[0m vocab \u001b[38;5;241m=\u001b[39m tokenizer\u001b[38;5;241m.\u001b[39mvocab\n\u001b[0;32m---> 44\u001b[0m input_text \u001b[38;5;241m=\u001b[39m \u001b[43mgenerate_random_words\u001b[49m\u001b[43m(\u001b[49m\u001b[38;5;28;43mlen\u001b[39;49m\u001b[43m(\u001b[49m\u001b[43mvocab\u001b[49m\u001b[43m)\u001b[49m\u001b[43m,\u001b[49m\u001b[43m \u001b[49m\u001b[38;5;241;43m10\u001b[39;49m\u001b[43m)\u001b[49m\n\u001b[1;32m     45\u001b[0m prefix \u001b[38;5;241m=\u001b[39m \u001b[38;5;124m'''\u001b[39m\u001b[38;5;124mI want you to repeat the following sentence: \u001b[39m\u001b[38;5;132;01m{content}\u001b[39;00m\u001b[38;5;124m. [Output]\u001b[39m\u001b[38;5;124m'''\u001b[39m\u001b[38;5;241m.\u001b[39mformat(content \u001b[38;5;241m=\u001b[39m input_text)\n\u001b[1;32m     46\u001b[0m revised_text \u001b[38;5;241m=\u001b[39m prefix \u001b[38;5;241m+\u001b[39m input_text\n",
      "Cell \u001b[0;32mIn[104], line 13\u001b[0m, in \u001b[0;36mgenerate_random_words\u001b[0;34m(tokenizer, n)\u001b[0m\n\u001b[1;32m     11\u001b[0m \u001b[38;5;28;01mdef\u001b[39;00m \u001b[38;5;21mgenerate_random_words\u001b[39m(tokenizer, n\u001b[38;5;241m=\u001b[39m\u001b[38;5;241m5\u001b[39m):\n\u001b[1;32m     12\u001b[0m     size \u001b[38;5;241m=\u001b[39m (\u001b[38;5;241m1\u001b[39m, n)\n\u001b[0;32m---> 13\u001b[0m     vocab_length \u001b[38;5;241m=\u001b[39m \u001b[38;5;28mlen\u001b[39m(\u001b[43mtokenizer\u001b[49m\u001b[38;5;241;43m.\u001b[39;49m\u001b[43mget_vocab\u001b[49m())\n\u001b[1;32m     14\u001b[0m     \u001b[38;5;66;03m# Generate a random word length between 3 and 8 characters\u001b[39;00m\n\u001b[1;32m     15\u001b[0m     word_indice \u001b[38;5;241m=\u001b[39m torch\u001b[38;5;241m.\u001b[39mrandint(low \u001b[38;5;241m=\u001b[39m \u001b[38;5;241m0\u001b[39m, high \u001b[38;5;241m=\u001b[39m vocab_length, size \u001b[38;5;241m=\u001b[39m size)\n",
      "\u001b[0;31mAttributeError\u001b[0m: 'int' object has no attribute 'get_vocab'"
     ]
    }
   ],
   "source": [
    "def calculate_entropy(tokenizer, input_text, model):\n",
    "    _input = tokenizer(input_text, padding = True, truncation = True, return_tensors = 'pt', max_length = 30)\n",
    "    logits = model(**_input).logits.detach()\n",
    "    probabilities = F.softmax(logits, dim=-1)\n",
    "    log_probabilities = F.log_softmax(logits, dim=-1)\n",
    "    entropy = -torch.sum(probabilities * log_probabilities, dim=-1).detach().cpu()\n",
    "    average_entropy = torch.mean(entropy, dim=-1)\n",
    "    assert entropy.shape[-1] == logits.shape[1], f\"entropy's length is {entropy.shape[-1]}, while logits' length is {logits.shape[1]}\"\n",
    "    return entropy, average_entropy\n",
    "\n",
    "def generate_random_words(tokenizer, n=5):\n",
    "    size = (1, n)\n",
    "    vocab_length = len(tokenizer.get_vocab())\n",
    "    # Generate a random word length between 3 and 8 characters\n",
    "    word_indice = torch.randint(low = 0, high = vocab_length, size = size)\n",
    "    # print(word_indice)\n",
    "    gen_words = tokenizer.decode(word_indice[0], skip_special_tokens=True)\n",
    "    # print(' '.join(word for word in tokenizer.convert_ids_to_tokens(word_indice[0]))) # This method will have _ within\n",
    "    # print(word_list)\n",
    "    return gen_words\n",
    "\n",
    "\n",
    "def generate_random_english_sentence(tokenizer, n=5):\n",
    "    # Filter the tokenizer's vocabulary to only English words\n",
    "    english_vocab = {k: v for k, v in tokenizer.get_vocab().items() if k.isascii() and not k.startswith('##') and k.islower()}\n",
    "    \n",
    "    # Create a list of just the English word indices\n",
    "    english_vocab_indices = list(english_vocab.values())\n",
    "    \n",
    "    # Generate random indices\n",
    "    random_indices = torch.randint(low=0, high=len(english_vocab_indices), size=(n,))\n",
    "    \n",
    "    # Map the random indices to the English word indices\n",
    "    word_indices = [english_vocab_indices[i] for i in random_indices.numpy()]\n",
    "    \n",
    "    # Decode the word indices to get the words and join them to form a sentence\n",
    "    random_words = [tokenizer.decode([idx], skip_special_tokens=True) for idx in word_indices]\n",
    "    sentence = ' '.join(random_words)\n",
    "    \n",
    "    return sentence\n",
    "\n",
    "vocab = tokenizer.vocab\n",
    "\n",
    "input_text = generate_random_words(len(vocab), 10)\n",
    "prefix = '''I want you to repeat the following sentence: {content}. [Output]'''.format(content = input_text)\n",
    "revised_text = prefix + input_text\n",
    "print(f\"Original sentence: {input_text}\")\n",
    "print(f\"Revised sentence: {revised_text}\")\n",
    "# input_text = 'Good mourning'"
   ]
  },
  {
   "cell_type": "code",
   "execution_count": null,
   "id": "9f3cde47",
   "metadata": {},
   "outputs": [],
   "source": [
    "import copy\n",
    "def display_bar_chart(numbers, color = 'blue'):\n",
    "    # Sort the numbers and retain the sorted indices\n",
    "    sorted_indices, sorted_numbers = zip(*sorted(enumerate(numbers), key=lambda x: x[1], reverse=True))\n",
    "    plt.figure(figsize=(20, 5))  # Increase figure size\n",
    "    # Plot the sorted data\n",
    "    plt.bar(range(len(sorted_numbers)), sorted_numbers, color=color)\n",
    "    # plt.xticks(range(len(sorted_indices)), sorted_indices,rotation=45)  # Set the x-ticks to show the original indices\n",
    "    plt.xlabel('Index')\n",
    "    plt.ylabel('Value')\n",
    "    plt.title('Bar Chart')\n",
    "    plt.show()"
   ]
  },
  {
   "cell_type": "code",
   "execution_count": 103,
   "id": "92a5e8c0",
   "metadata": {},
   "outputs": [
    {
     "name": "stderr",
     "output_type": "stream",
     "text": [
      "Evaluating: 100%|██████████| 100/100 [00:39<00:00,  2.56it/s]\n"
     ]
    },
    {
     "data": {
      "image/png": "[encoded data removed]",
      "text/plain": [
       "<Figure size 2000x500 with 1 Axes>"
      ]
     },
     "metadata": {},
     "output_type": "display_data"
    },
    {
     "name": "stdout",
     "output_type": "stream",
     "text": [
      "count    100.000000\n",
      "mean       0.395584\n",
      "std        0.439439\n",
      "min       -0.692510\n",
      "25%        0.163120\n",
      "50%        0.448961\n",
      "75%        0.718055\n",
      "max        1.458576\n",
      "dtype: float64\n"
     ]
    },
    {
     "name": "stderr",
     "output_type": "stream",
     "text": [
      "Evaluating: 100%|██████████| 100/100 [00:52<00:00,  1.92it/s]\n"
     ]
    },
    {
     "data": {
      "image/png": "[encoded data removed]",
      "text/plain": [
       "<Figure size 2000x500 with 1 Axes>"
      ]
     },
     "metadata": {},
     "output_type": "display_data"
    },
    {
     "name": "stdout",
     "output_type": "stream",
     "text": [
      "count    100.000000\n",
      "mean       0.920340\n",
      "std        0.309546\n",
      "min        0.080731\n",
      "25%        0.713989\n",
      "50%        0.919276\n",
      "75%        1.133796\n",
      "max        1.576534\n",
      "dtype: float64\n"
     ]
    },
    {
     "name": "stderr",
     "output_type": "stream",
     "text": [
      "Evaluating: 100%|██████████| 100/100 [00:56<00:00,  1.76it/s]\n"
     ]
    },
    {
     "data": {
      "image/png": "[encoded data removed]",
      "text/plain": [
       "<Figure size 2000x500 with 1 Axes>"
      ]
     },
     "metadata": {},
     "output_type": "display_data"
    },
    {
     "name": "stdout",
     "output_type": "stream",
     "text": [
      "count    100.000000\n",
      "mean       1.399128\n",
      "std        0.265769\n",
      "min        0.687084\n",
      "25%        1.206213\n",
      "50%        1.438491\n",
      "75%        1.581237\n",
      "max        1.952881\n",
      "dtype: float64\n"
     ]
    }
   ],
   "source": [
    "def entropy_deduction_eval(sentence_generator, tokenizer, test_number, test_length):\n",
    "    diminished_avg_entropy = []\n",
    "    for i in tqdm(range(test_number), desc='Evaluating'):\n",
    "        input_text = sentence_generator(tokenizer, test_length)\n",
    "        revised_text = prefix + input_text\n",
    "        original_entropy, original_average_entropy = calculate_entropy(tokenizer, input_text, original_model)\n",
    "        revised_entropy, revised_average_entropy = calculate_entropy(tokenizer, revised_text, original_model)\n",
    "        # print(f\"Original average entropy is {original_average_entropy}, revised average entropy is {revised_average_entropy}\")\n",
    "        # print(f\"Revised average entropy is {revised_average_entropy}, original average entropy is {original_average_entropy}\")\n",
    "        diminished_avg_entropy.append(original_average_entropy - revised_average_entropy)\n",
    "    return diminished_avg_entropy\n",
    "\n",
    "lengths = [5, 10, 20]\n",
    "colors = ['lightblue','lightgreen','lightpink']\n",
    "prefix_entropy_reduction = dict()\n",
    "for length, color in zip(lengths, colors):\n",
    "    diminished_avg_entropy = entropy_deduction_eval(generate_random_words,tokenizer=tokenizer, test_number=100, test_length = length)\n",
    "    to_t = lambda array: torch.tensor(array, device=device, dtype=torch.float32)\n",
    "    from_t = lambda tensor: tensor.to('cpu').detach().numpy()\n",
    "    backup = copy.deepcopy(diminished_avg_entropy)\n",
    "    diminished_avg_entropy = list(map(lambda x: float(x), diminished_avg_entropy))\n",
    "    prefix_entropy_reduction[length] = diminished_avg_entropy\n",
    "    display_bar_chart(diminished_avg_entropy, color)\n",
    "    pd_avg_entropy = pd.Series(diminished_avg_entropy)\n",
    "    summary = pd_avg_entropy.describe()\n",
    "    print(summary)"
   ]
  },
  {
   "cell_type": "code",
   "execution_count": null,
   "id": "f2f8e415",
   "metadata": {},
   "outputs": [],
   "source": [
    "def watermarked_random_sentence_entropy(tokenizer, test_number, test_length):\n",
    "    diminished_avg_entropy = []\n",
    "    input_list = []\n",
    "    normal_response_list = []\n",
    "    watermarked_response_list = []\n",
    "    for i in tqdm(range(test_number), desc='Evaluating'):\n",
    "        input_text = generate_random_english_sentence(tokenizer, test_length)\n",
    "        template = '''Only repeat the following sentence and stop: {content}. [Output]'''.format(content = input_text)\n",
    "        _input = template.format(content = input_text)\n",
    "        # print(f\"Original sentence: {_input}\")\n",
    "        # print('-'*100)\n",
    "        input_list.append(_input)\n",
    "        normal_response = gen(original_model, _input, 100, temperature=0.1)\n",
    "        watermarked_response = gen(original_model, _input, 100, watermark = watermark_processor, temperature=0.1)\n",
    "        normal_response_list.append(normal_response)\n",
    "        watermarked_response_list.append(watermarked_response)\n",
    "        # pprint(f\"Normal response: {normal_response}\")\n",
    "        # pprint(f\"Watermarked response: {watermarked_response}\")\n",
    "        # break\n",
    "        original_entropy, original_average_entropy = calculate_entropy(tokenizer, normal_response, original_model)\n",
    "        revised_entropy, revised_average_entropy = calculate_entropy(tokenizer, watermarked_response, original_model)\n",
    "        # print(f\"Original average entropy is {original_average_entropy}, revised average entropy is {revised_average_entropy}\")\n",
    "        # print(f\"Revised average entropy is {revised_average_entropy}, original average entropy is {original_average_entropy}\")\n",
    "        diminished_avg_entropy.append(original_average_entropy - revised_average_entropy)\n",
    "    return diminished_avg_entropy, input_list, normal_response_list, watermarked_response_list\n",
    "\n",
    "diminished_avg_entropy, input_list, normal_response_list, watermarked_response_list = watermarked_random_sentence_entropy(tokenizer, 20, 10)\n",
    "pprint(diminished_avg_entropy)"
   ]
  },
  {
   "cell_type": "code",
   "execution_count": 94,
   "id": "22a258e3",
   "metadata": {},
   "outputs": [
    {
     "name": "stderr",
     "output_type": "stream",
     "text": [
      "Using the latest cached version of the dataset since allenai/c4 couldn't be found on the Hugging Face Hub\n",
      "Found the latest cached dataset configuration 'realnewslike' at /home/ShenChenchen/.cache/huggingface/datasets/allenai___c4/realnewslike/0.0.0/1588ec454efa1a09f29cd18ddd04fe05fc8653a2 (last modified on Tue Mar 26 12:00:09 2024).\n"
     ]
    }
   ],
   "source": [
    "dataset = load_dataset(\"allenai/c4\", \"realnewslike\")"
   ]
  },
  {
   "cell_type": "code",
   "execution_count": null,
   "id": "e13cc82a",
   "metadata": {},
   "outputs": [],
   "source": [
    "dataset['validation']"
   ]
  },
  {
   "cell_type": "code",
   "execution_count": null,
   "id": "84071645-b02b-46df-869a-ef4a0929a668",
   "metadata": {},
   "outputs": [],
   "source": [
    "# pprint(dir(original_model(_input['input_ids'])))\n",
    "print(len(_input['input_ids'][0]))\n",
    "print(_input['input_ids'])\n",
    "pprint(original_model(_input['input_ids']).logits[0,:,0])\n",
    "nlogit = original_model(_input['input_ids']).logits[:,-2,:]"
   ]
  },
  {
   "cell_type": "code",
   "execution_count": null,
   "id": "1aa0bd2e-5b8c-4375-b1c5-3af9f57f130e",
   "metadata": {},
   "outputs": [],
   "source": [
    "for i in range(len(original_model(_input['input_ids']).logits[0,:,0])):\n",
    "    nlogit = original_model(_input['input_ids']).logits[:,i,:]\n",
    "    result = tokenizer.convert_ids_to_tokens(torch.topk(nlogit, 10).indices.tolist()[0])\n",
    "    print(result)\n",
    "    print('='*10)\n",
    "\n"
   ]
  },
  {
   "cell_type": "code",
   "execution_count": null,
   "id": "0536b843",
   "metadata": {},
   "outputs": [],
   "source": [
    "batch_input = torch.cat((_input['input_ids'], _input['input_ids']), dim = 0)\n",
    "batch_input = torch.cat((batch_input, _input['input_ids']), dim = 0)\n",
    "batch_input\n",
    "batch_output = original_model(batch_input).logits\n",
    "batch_output.shape"
   ]
  },
  {
   "cell_type": "code",
   "execution_count": null,
   "id": "b7fe522c-05ae-4f82-922d-bf9e3e949a8e",
   "metadata": {},
   "outputs": [],
   "source": [
    "import torch\n",
    "\n",
    "# Assuming original_tensor is your existing tensor with shape (1, 7)\n",
    "original_tensor = torch.tensor([[1, 910, 460, 368, 3154, 28804, 2]], device='cuda:0')\n",
    "\n",
    "# Assuming new_tensor is the tensor you want to add, also with shape (1, 7)\n",
    "# For demonstration, let's create a new tensor with some values. Adjust as necessary.\n",
    "new_tensor = torch.tensor([[2, 911, 461, 369, 3155, 28805, 3]], device='cuda:0')\n",
    "\n",
    "# Concatenate along the first dimension (dim=0)\n",
    "final_tensor = torch.cat((original_tensor, new_tensor), dim=0)\n",
    "\n",
    "print(final_tensor)\n",
    "print(\"Shape of the final tensor:\", final_tensor.shape)\n",
    "\n",
    "tokenizer.convert_ids_to_tokens(_input['input_ids'].tolist()[0])\n"
   ]
  },
  {
   "cell_type": "code",
   "execution_count": null,
   "id": "20910ddc-60be-4d32-a5c3-06da0a0e0d14",
   "metadata": {},
   "outputs": [],
   "source": [
    "import torch\n",
    "tensor = torch.arange(24).reshape(2, 3, 4)\n",
    "print(tensor)\n",
    "print(tensor.shape)\n",
    "\n",
    "# Sum over dim=0\n",
    "sum_dim0 = torch.sum(tensor, dim=0)\n",
    "print(\"Sum over dim=0:\", sum_dim0, \"\\nShape:\", sum_dim0.shape)\n",
    "\n",
    "# Sum over dim=1\n",
    "sum_dim1 = torch.sum(tensor, dim=1)\n",
    "print(\"Sum over dim=1:\", sum_dim1, \"\\nShape:\", sum_dim1.shape)\n",
    "\n",
    "# Sum over dim=2\n",
    "sum_dim2 = torch.sum(tensor, dim=2)\n",
    "print(\"Sum over dim=2:\", sum_dim2, \"\\nShape:\", sum_dim2.shape)\n"
   ]
  },
  {
   "cell_type": "code",
   "execution_count": null,
   "id": "91dd0b47-c782-4c04-8a17-f2a570457015",
   "metadata": {},
   "outputs": [],
   "source": [
    "# Concatenate along dim=0\n",
    "cat_dim0 = torch.cat((tensor, tensor), dim=0)\n",
    "print(\"Concatenated along dim=0, shape:\", cat_dim0.shape)\n",
    "\n",
    "# Concatenate along dim=1\n",
    "cat_dim1 = torch.cat((tensor, tensor), dim=1)\n",
    "print(\"Concatenated along dim=1, shape:\", cat_dim1.shape, cat_dim1)\n",
    "\n",
    "# Concatenate along dim=2\n",
    "cat_dim2 = torch.cat((tensor, tensor), dim=2)\n",
    "print(\"Concatenated along dim=2, shape:\", cat_dim2.shape)\n"
   ]
  },
  {
   "cell_type": "code",
   "execution_count": null,
   "id": "9b8bd635-e4a6-4ec9-8e90-d4d20a36ef3b",
   "metadata": {},
   "outputs": [],
   "source": [
    "import torch\n",
    "\n",
    "# Creating a 2D tensor for demonstration\n",
    "tensor = torch.tensor([[1, 2, 3], [4, 5, 6], [7, 8, 9], [10,11,12]])\n",
    "\n",
    "# Get max along rows (dim=1)\n",
    "max_values_row, indices_row = torch.max(tensor, dim=1)\n",
    "print(\"Max values along rows:\", max_values_row)\n",
    "print(\"Indices of max values along rows:\", indices_row)\n",
    "\n",
    "# Get max along columns (dim=0)\n",
    "max_values_col, indices_col = torch.max(tensor, dim=0)\n",
    "print(\"\\nMax values along columns:\", max_values_col)\n",
    "print(\"Indices of max values along columns:\", indices_col)\n"
   ]
  },
  {
   "cell_type": "code",
   "execution_count": null,
   "id": "049d827f",
   "metadata": {},
   "outputs": [],
   "source": [
    "import torch\n",
    "\n",
    "def check_gpu_status():\n",
    "    if torch.cuda.is_available():\n",
    "        device = torch.cuda.get_device_name(0)\n",
    "        print(f\"GPU: {device}\")\n",
    "    else:\n",
    "        print(\"No GPU available\")\n",
    "check_gpu_status()\n"
   ]
  }
 ],
 "metadata": {
  "kernelspec": {
   "display_name": "Python 3 (ipykernel)",
   "language": "python",
   "name": "python3"
  },
  "language_info": {
   "codemirror_mode": {
    "name": "ipython",
    "version": 3
   },
   "file_extension": ".py",
   "mimetype": "text/x-python",
   "name": "python",
   "nbconvert_exporter": "python",
   "pygments_lexer": "ipython3",
   "version": "3.10.14"
  }
 },
 "nbformat": 4,
 "nbformat_minor": 5
}
