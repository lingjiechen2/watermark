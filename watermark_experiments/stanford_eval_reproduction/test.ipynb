{
 "cells": [
  {
   "cell_type": "code",
   "execution_count": 1,
   "id": "c3fd0973-d966-4f59-ad22-36846b74b849",
   "metadata": {},
   "outputs": [],
   "source": [
    "import json"
   ]
  },
  {
   "cell_type": "code",
   "execution_count": 26,
   "id": "1ed4e98b-6291-4f96-a827-7db66f8181d3",
   "metadata": {},
   "outputs": [],
   "source": [
    "with open('./llm_normal_completion.json','r') as f:\n",
    "    uw_output_dict = json.load(f)\n",
    "with open('./llm_watermarked_completion.json', 'r') as f:\n",
    "    w_output_dict = json.load(f)\n",
    "with open('./prompt_list.json', 'r') as f:\n",
    "    prompt_list = json.load(f)\n",
    "\n",
    "result = dict()\n",
    "for id, i in zip(uw_output_dict.keys(), range(len(uw_output_dict))):\n",
    "    result[id] = dict()\n",
    "    result[id]['prompt'] = prompt_list[i]\n",
    "    result[id]['w_output'] = w_output_dict[id]\n",
    "    result[id]['uw_output'] = uw_output_dict[id]\n",
    "\n",
    "result = list(result.values())\n",
    "with open('./results.json','w') as f:\n",
    "    json.dump(result,f, indent=4)"
   ]
  },
  {
   "cell_type": "code",
   "execution_count": 27,
   "id": "354373c4-5dd8-432e-ab72-6f7d698460a5",
   "metadata": {},
   "outputs": [],
   "source": [
    "with open('./results.json', 'r') as f:\n",
    "    data = json.load(f)"
   ]
  },
  {
   "cell_type": "code",
   "execution_count": 28,
   "id": "d17f190d-cecc-47cc-bb8a-b26fc29ceee0",
   "metadata": {},
   "outputs": [
    {
     "data": {
      "text/plain": [
       "list"
      ]
     },
     "execution_count": 28,
     "metadata": {},
     "output_type": "execute_result"
    }
   ],
   "source": [
    "type(data)"
   ]
  },
  {
   "cell_type": "code",
   "execution_count": 31,
   "id": "3278b9d6-82d4-4bf4-9e7f-29a995451743",
   "metadata": {},
   "outputs": [
    {
     "name": "stdout",
     "output_type": "stream",
     "text": [
      "Fold 1\n",
      "TRAIN: [2 3 4 5] TEST: [0 1]\n",
      "X_train: [[1 2]\n",
      " [3 4]\n",
      " [5 6]\n",
      " [7 8]]\n",
      "X_test: [[1 2]\n",
      " [3 4]]\n",
      "y_train: [3 4 5 6]\n",
      "y_test: [1 2]\n",
      "---\n",
      "Fold 2\n",
      "TRAIN: [0 1 3 4] TEST: [2 5]\n",
      "X_train: [[1 2]\n",
      " [3 4]\n",
      " [3 4]\n",
      " [5 6]]\n",
      "X_test: [[1 2]\n",
      " [7 8]]\n",
      "y_train: [1 2 4 5]\n",
      "y_test: [3 6]\n",
      "---\n",
      "Fold 3\n",
      "TRAIN: [0 1 2 5] TEST: [3 4]\n",
      "X_train: [[1 2]\n",
      " [3 4]\n",
      " [1 2]\n",
      " [7 8]]\n",
      "X_test: [[3 4]\n",
      " [5 6]]\n",
      "y_train: [1 2 3 6]\n",
      "y_test: [4 5]\n",
      "---\n"
     ]
    }
   ],
   "source": [
    "from sklearn.model_selection import KFold\n",
    "import numpy as np\n",
    "\n",
    "# Example dataset: features X and labels y\n",
    "X = np.array([[1, 2], [3, 4], [1, 2], [3, 4], [5, 6], [7, 8]])\n",
    "y = np.array([1, 2, 3, 4, 5, 6])\n",
    "\n",
    "# Setting up KFold\n",
    "kf = KFold(n_splits=3, shuffle=True, random_state=42)\n",
    "\n",
    "# Initialize fold count\n",
    "fold = 1\n",
    "\n",
    "# Using KFold to split the data\n",
    "for train_index, test_index in kf.split(X):\n",
    "    print(f\"Fold {fold}\")\n",
    "    print(\"TRAIN:\", train_index, \"TEST:\", test_index)\n",
    "    \n",
    "    X_train, X_test = X[train_index], X[test_index]\n",
    "    y_train, y_test = y[train_index], y[test_index]\n",
    "    \n",
    "    # Optionally print the actual training and testing sets\n",
    "    print(\"X_train:\", X_train)\n",
    "    print(\"X_test:\", X_test)\n",
    "    print(\"y_train:\", y_train)\n",
    "    print(\"y_test:\", y_test)\n",
    "    print(\"---\")\n",
    "    \n",
    "    fold += 1\n"
   ]
  }
 ],
 "metadata": {
  "kernelspec": {
   "display_name": "Python 3 (ipykernel)",
   "language": "python",
   "name": "python3"
  },
  "language_info": {
   "codemirror_mode": {
    "name": "ipython",
    "version": 3
   },
   "file_extension": ".py",
   "mimetype": "text/x-python",
   "name": "python",
   "nbconvert_exporter": "python",
   "pygments_lexer": "ipython3",
   "version": "3.11.5"
  }
 },
 "nbformat": 4,
 "nbformat_minor": 5
}
