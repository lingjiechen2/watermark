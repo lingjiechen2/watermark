{
 "cells": [
  {
   "cell_type": "code",
   "execution_count": 10,
   "id": "96da0c87-f84b-4e84-a45e-da0d06db0fd4",
   "metadata": {},
   "outputs": [],
   "source": [
    "import os\n",
    "import re\n",
    "import json\n",
    "import torch\n",
    "from random import seed, shuffle\n",
    "from collections import Counter\n",
    "from openai import OpenAI\n",
    "from time import time\n",
    "import pandas as pd\n",
    "import json\n",
    "from datasets import load_dataset\n",
    "from pprint import pprint\n",
    "from time import time\n",
    "from tqdm import tqdm\n",
    "from langchain_openai import ChatOpenAI\n",
    "from langchain.prompts import ChatPromptTemplate\n",
    "from GET_API_KEY import GET_OPENAI_API_KEY"
   ]
  },
  {
   "cell_type": "code",
   "execution_count": 5,
   "id": "9d13f152-4911-42cf-8f19-7e1fe577de51",
   "metadata": {},
   "outputs": [
    {
     "name": "stdout",
     "output_type": "stream",
     "text": [
      "ChatCompletionMessage(content=\"In the realm of code, a notion profound,\\nRecursion dances, forever unbound.\\nA function that calls itself in its stride,\\nA magical loop where depths it will hide.\\n\\nLike a mirror reflecting its own gaze,\\nRecursion spirals in mysterious ways.\\nIt breaks down problems with elegant charm,\\nUnraveling logic with each recursive harm.\\n\\nFrom the towers of Hanoi to trees that grow tall,\\nRecursion weaves patterns, standing so tall.\\nIn its endless cycle, it conquers the night,\\nSolving complexities with pure, dazzling light.\\n\\nSo embrace recursion, let your mind unfurl,\\nIn the realm of programming, it's a precious pearl.\\nA concept profound, a loop so divine,\\nIn the tapestry of code, recursion will shine.\", role='assistant', function_call=None, tool_calls=None)\n"
     ]
    }
   ],
   "source": [
    "client = OpenAI(api_key=GET_OPENAI_API_KEY())\n",
    "completion = client.chat.completions.create(\n",
    "  model=\"gpt-3.5-turbo\",\n",
    "  messages=[\n",
    "    {\"role\": \"system\", \"content\": \"You are a poetic assistant, skilled in explaining complex programming concepts with creative flair.\"},\n",
    "    {\"role\": \"user\", \"content\": \"Compose a poem that explains the concept of recursion in programming.\"}\n",
    "  ]\n",
    ")\n",
    "# Test the model's performance and connection status\n",
    "print(completion.choices[0].message)"
   ]
  },
  {
   "cell_type": "code",
   "execution_count": 20,
   "id": "672d0b8e-b0d5-42b1-9ad1-6507396c67b0",
   "metadata": {},
   "outputs": [],
   "source": [
    "gpt4_name = 'gpt-4-0613'\n",
    "gpt35_name = 'gpt-3.5-turbo-1106'\n",
    "temperature = 0.0\n",
    "openai_api_key = GET_OPENAI_API_KEY()  # use your api key\n",
    "gpt4 = ChatOpenAI(model_name=gpt4_name, temperature=temperature,\n",
    "                    openai_api_key=openai_api_key, request_timeout=120)\n",
    "gpt35 = ChatOpenAI(model_name=gpt35_name, temperature=temperature,\n",
    "                    openai_api_key=openai_api_key, request_timeout=120)"
   ]
  },
  {
   "cell_type": "code",
   "execution_count": 82,
   "id": "45e59139-ab86-4e77-91c5-47bb4a76343c",
   "metadata": {},
   "outputs": [],
   "source": [
    "prompt_string  = \"I want you to add in a prefix to the following text, you don't need to care about grammer or punctuation, you need to output the content after the given prefix.\\\n",
    "[Prefix]:{prefix}, [Content]: {content} [Repetition]:\"\n",
    "chat_prompt = ChatPromptTemplate.from_template(prompt_string)\n",
    "prefix_list = [\n",
    "    'I am telling you a story:',\n",
    "    'Hi, let me share something with you:',\n",
    "    'Remember this:',\n",
    "    'Just imagine:',\n",
    "    'Once upon a time,',\n",
    "    'Let me explain:',\n",
    "    'Listen carefully:',\n",
    "    \"Here's a little secret:\",\n",
    "    'Think about this:',\n",
    "    'Do you know about'\n",
    "]\n",
    "# _output = gpt4(chat_prompt.format_messages(prefix=prefix_lists[0], content= 'how are you?'))"
   ]
  },
  {
   "cell_type": "code",
   "execution_count": 22,
   "id": "82c1ad88-0498-4c4c-b920-6543ec64ba9a",
   "metadata": {},
   "outputs": [
    {
     "data": {
      "application/vnd.jupyter.widget-view+json": {
       "model_id": "b2a195b2b90e43be905e908083b5050b",
       "version_major": 2,
       "version_minor": 0
      },
      "text/plain": [
       "Resolving data files:   0%|          | 0/1024 [00:00<?, ?it/s]"
      ]
     },
     "metadata": {},
     "output_type": "display_data"
    },
    {
     "name": "stderr",
     "output_type": "stream",
     "text": [
      "Using the latest cached version of the dataset since allenai/c4 couldn't be found on the Hugging Face Hub\n",
      "Found the latest cached dataset configuration 'realnewslike' at /home/ShenChenchen/.cache/huggingface/datasets/allenai___c4/realnewslike/0.0.0/1588ec454efa1a09f29cd18ddd04fe05fc8653a2 (last modified on Tue Mar 26 12:00:09 2024).\n"
     ]
    },
    {
     "data": {
      "application/vnd.jupyter.widget-view+json": {
       "model_id": "1d6f6f20d7d140ff86d0eecd2b57e9a9",
       "version_major": 2,
       "version_minor": 0
      },
      "text/plain": [
       "Loading dataset shards:   0%|          | 0/76 [00:00<?, ?it/s]"
      ]
     },
     "metadata": {},
     "output_type": "display_data"
    }
   ],
   "source": [
    "dataset = load_dataset(\"allenai/c4\", \"realnewslike\")\n",
    "epoch = 10\n",
    "batch_size = 10\n",
    "repetition_content = dataset['validation']['text'][:epoch]"
   ]
  },
  {
   "cell_type": "code",
   "execution_count": 88,
   "id": "58b323e4-ffb2-4f06-802f-7d4f8666b8a2",
   "metadata": {},
   "outputs": [
    {
     "data": {
      "text/plain": [
       "(True, 'Content matches exactly.')"
      ]
     },
     "execution_count": 88,
     "metadata": {},
     "output_type": "execute_result"
    }
   ],
   "source": [
    "# output_list = [\n",
    "#     gpt4(chat_prompt.format_messages(prefix=prefix_lists[0], content=repitition_content[0])).content\n",
    "# ]\n",
    "\n",
    "def compare_content_with_prefix(prefix, expected_content, model_output):\n",
    "    # Check if the model output starts with the prefix\n",
    "    if not model_output.startswith(prefix):\n",
    "        return False, \"Output does not start with the given prefix.\"\n",
    "    \n",
    "    # Remove the prefix from the model output to get the content part\n",
    "    content_start_index = len(prefix)\n",
    "    actual_content = model_output[content_start_index:]\n",
    "\n",
    "    expected_content = expected_content.strip().lower().replace('\\n', ' ')\n",
    "    actual_content = actual_content.strip().lower().replace('\\n', ' ')\n",
    "    \n",
    "    # Now compare the actual content with the expected content\n",
    "    if actual_content == expected_content:\n",
    "        return True, \"Content matches exactly.\"\n",
    "    else:\n",
    "        print(actual_content.strip().lower().replace('\\n', ' '))\n",
    "        print(expected_content.strip().lower())\n",
    "        \n",
    "        # Find the first mismatch if content does not match exactly\n",
    "        min_length = min(len(expected_content), len(actual_content))\n",
    "        for i in range(min_length):\n",
    "            if expected_content[i] != actual_content[i]:\n",
    "                print(f\"Expected:{expected_content[i]}, Actual:{actual_content[i]},{i}\")\n",
    "                mismatch_index = i\n",
    "                break\n",
    "        else:\n",
    "            # If no mismatch found in common length, check for length mismatch\n",
    "            if len(expected_content) != len(actual_content):\n",
    "                mismatch_index = min_length\n",
    "            else:\n",
    "                # Identical content\n",
    "                return True, \"Content matches exactly.\"\n",
    "        \n",
    "        # Highlight the mismatch in expected and actual contents\n",
    "        expected_highlight = expected_content[:mismatch_index] + \"[\" + expected_content[mismatch_index] + \"]\" + expected_content[mismatch_index+1:]\n",
    "        actual_highlight = actual_content[:mismatch_index] + \"[\" + actual_content[mismatch_index] + \"]\" + actual_content[mismatch_index+1:]\n",
    "        \n",
    "        mismatch_info = f\"Mismatch found at character {mismatch_index + 1} of the content part.\\nExpected: {expected_highlight}\\nActual: {actual_highlight}\"\n",
    "        return False, mismatch_info, expected_content, actual_content\n",
    "compare_content_with_prefix(prefix_list[0], repetition_content[1],_outputs[1])\n",
    "# C[700:756]"
   ]
  },
  {
   "cell_type": "code",
   "execution_count": 70,
   "id": "81b6f16a-4e1c-46a5-91bf-0674136272c7",
   "metadata": {},
   "outputs": [
    {
     "data": {
      "text/plain": [
       "'hi '"
      ]
     },
     "execution_count": 70,
     "metadata": {},
     "output_type": "execute_result"
    }
   ],
   "source": [
    "a = \"hi/n\".replace('/n', ' ')\n",
    "a"
   ]
  },
  {
   "cell_type": "code",
   "execution_count": 83,
   "id": "be5c2d87-e3ac-49b0-a808-fdefd03e6611",
   "metadata": {},
   "outputs": [
    {
     "name": "stderr",
     "output_type": "stream",
     "text": [
      "Processing:   0%|                                                                                                                                                                | 0/50 [00:41<?, ?it/s]"
     ]
    },
    {
     "name": "stdout",
     "output_type": "stream",
     "text": [
      "['I am telling you a story: Cluster comprises IBM\\'s Opteron-based eServer 325 server and systems management software and storage devices that can run Linux and Windows operating systems.\\nIBM on Tuesday announced a prepackaged and pretested cluster that is powered by Advanced Micro Devices Inc.s 64-bit Opteron processor.\\nIBM, of Armonk, N.Y., is combining its Opteron-based eServer 325 server—which targets scientific and technical computing users—with systems management software and storage devices to offer a bundled package that can run Linux and Windows operating systems.\\nThe new offering, which will be available later this month or in early December, is part of IBMs eServer Cluster 1350, which also includes bundles based on the companys BladeCenter blade servers and two-processor x335 and x345 systems using Intel Corp.s 32-bit Xeon chips.\\nClusters comprise multiple servers tied together to create a supercomputing environment for users. In a related move, IBM last week announced that it was teaming with Corning Inc., the U.S. Department of Energy and the National Nuclear Security Administration to develop high-speed, optically switched interconnects for supercomputers. The $20 million, two-and-a-half-year project is aimed at increasing network bandwidth by 50 times while at the same time cutting the costs of supercomputers.\\nIBMs 325 systems, powered by 2GHz Opterons, give users a chance to run both their 32-bit and 64-bit applications on a single platform, which is important for mixed-use environments, said David Turek, vice president of IBMs Deep Computing unit.\\n\"For many of these users, who have been left with a stark choice—you either run 32-bit or 64-bit—Opteron is an interesting bridge between the two,\" Turek said. \"Its an attractive proposition.\"\\nAMD, of Sunnyvale, Calif., has pushed Opterons ability to run 32-bit applications as well as it does 64-bit applications as a key differentiator between it and Intels Itanium architecture. The 64-bit Itanium chip maintains a limited amount of backward compatibility, which means that it does not run the 32-bit applications as well as it does the 64-bit software.\\nWith the latest Itanium 2 released this summer, officials with Intel, of Santa Clara, Calif., were promoting the companys IA-32 Execution Layer, designed to bridge that performance gap. Intel, which has pushed Xeon-based systems for 32-bit applications and Itanium for 64-bit computing, views the execution layer as a way of helping customers who want to move to 64-bit computing but still have older 32-bit applications running.\\nOn Monday, Intel officials said that a software update from Microsoft Corp. that includes the execution layer for Windows applications has been delayed until the second half of next year. However, they said that Linux vendors, including Red Hat Inc. and SuSE Linux AG, both are incorporating the execution layer code in their offerings.\\n/zimages/3/28571.gifRead \"MS Delay Hinders Itanium Software Upgrade.\"\\nGordon Haff, an analyst with Illuminata Inc., said Opterons adoption path is mirroring that of the older Itanium technology.\\n\"Theres a lot of interest in Opteron in [the high-performance computing space]; its nearly exclusively in HPC,\" said Haff, in Nashua, N.H. \"Its a good performing chip, and thats pretty much what HPC [customers are] looking for.\"\\nWhile backward compatibility with 32-bit applications may make Opteron more attractive in the commercial space, HPC users are more interested in performance, he said.\\nTurek agreed. \"The Intel name carries a lot of weight in the industry,\" he said. That said, HPC and technical computing customers tend to be among the early adopters of new technology.\\n\"Theyre searching for the best technology without so much regard for the brand,\" he said.\\nThe Opteron cluster offering includes IBM Cluster Management Software, which aims to avoid problems and speed up the resolution of problems that do occur by automating repetitive tasks and error detection.\\nAlso included in the cluster package is a new Linux Cluster Install Tool, which automates much of the installation work, IBM officials said.\\nIn the supercomputing interconnect project, Cornings Science & Technology Division, in Corning, N.Y., will create a prototype for an optically switched interconnect. IBM Research Labs in the United States and Switzerland will build the systems electronic control and monitoring circuitry.', 'I am telling you a story: Belying expectations, Prasar Bharti has earned only Rs 58.19 crore (Rs 581.9 million) as revenue during the Commonwealth Games last month.\\nThe gross revenue earned by PB on account of telecasting/broadcasting of advertisements on Doordarshan channel and All India Radio during coverage of the Commonwealth Games is Rs 58.17 crore, Minister of State for Information and Broadcasting S Jagathrakshakan informed the Lok Sabha on Tuesday.\\nWhile AIR earned Rs 2.18 crore (Rs 21.8 million), Doordarshan garnered Rs 55.99 crore (Rs 559.9 million) as revenue, he said. Prasar Bharati had earlier said it knew in advance that the recently concluded Commonwealth Games, for which Doordarshan was the official broadcaster, would not bring in huge advertising revenues.\\nas a result of luke warm response from advertisers.\\nNotably, DD was not allowed to air advertisements during the closing ceremony of the CWG Games following complaints that the opening ceremony had been shown deferred live to accommodate advertisements.\\nAfter a successful opening ceremony, DD had hiked ad spot rates for the closing ceremony to Rs 2.5 lakh for a ten second spot as compared with Rs 90,000 for the same in the opening of the CWG.']\n"
     ]
    },
    {
     "name": "stderr",
     "output_type": "stream",
     "text": [
      "\n"
     ]
    }
   ],
   "source": [
    "# Example usage\n",
    "# prefix = \"This is a prefix: \"\n",
    "# expected_content = \"This is the expected content.\"\n",
    "# model_output = \"This is a prefix: This is the expexted content.\"\n",
    "\n",
    "# model_output = [gpt4(chat_prompt.format_messages(prefix=prefix, content=content)).content for content in repitition_content for prefix in prefix_lists[:2]]\n",
    "batch_size = 2\n",
    "test = 0\n",
    "test_limit = 2\n",
    "\n",
    "_input_list = []\n",
    "for prefix in prefix_list:\n",
    "    for  content in repetition_content:\n",
    "        _input_list.append(chat_prompt.format_messages(prefix=prefix, content=content))\n",
    "\n",
    "_output_list = []\n",
    "for i in tqdm(range(0, len(_input_list),batch_size), desc=\"Processing\"):\n",
    "    # _input = [[msg.content for msg in input_batch] for input_batch in _input_list[i:i+batch_size]]\n",
    "    # print(_input)\n",
    "    _output_list.extend([o1.content for o1 in gpt4.batch(_input_list[:batch_size])])\n",
    "    \n",
    "    # print(_outputs)\n",
    "    test += 1\n",
    "    if test == test_limit:\n",
    "        break\n",
    "    \n",
    "\n",
    "# for i in range(len(model_output)):\n",
    "#     match, message = compare_content_with_prefix(prefix_lists[i], repitition_content[i], model_output[i])\n",
    "#     print(f\"Match: {match}\\nMessage: {message}\")\n"
   ]
  },
  {
   "cell_type": "code",
   "execution_count": 59,
   "id": "f2e6f982-6e6a-4498-b0af-8eac9797bb0c",
   "metadata": {},
   "outputs": [
    {
     "name": "stdout",
     "output_type": "stream",
     "text": [
      "belying expectations, prasar bharti has earned only rs 58.19 crore (rs 581.9 million) as revenue during the commonwealth games last month. the gross revenue earned by pb on account of telecasting/broadcasting of advertisements on doordarshan channel and all india radio during coverage of the commonwealth games is rs 58.17 crore, minister of state for information and broadcasting s jagathrakshakan informed the lok sabha on tuesday. while air earned rs 2.18 crore (rs 21.8 million), doordarshan garnered rs 55.99 crore (rs 559.9 million) as revenue, he said. prasar bharati had earlier said it knew in advance that the recently concluded commonwealth games, for which doordarshan was the official broadcaster, would not bring in huge advertising revenues as a result of luke warm response from advertisers. notably, dd was not allowed to air advertisements during the closing ceremony of the cwg games following complaints that the opening ceremony had been shown deferred live to accommodate advertisements. after a successful opening ceremony, dd had hiked ad spot rates for the closing ceremony to rs 2.5 lakh for a ten second spot as compared with rs 90,000 for the same in the opening of the cwg.\n",
      "belying expectations, prasar bharti has earned only rs 58.19 crore (rs 581.9 million) as revenue during the commonwealth games last month.\n",
      "the gross revenue earned by pb on account of telecasting/broadcasting of advertisements on doordarshan channel and all india radio during coverage of the commonwealth games is rs 58.17 crore, minister of state for information and broadcasting s jagathrakshakan informed the lok sabha on tuesday.\n",
      "while air earned rs 2.18 crore (rs 21.8 million), doordarshan garnered rs 55.99 crore (rs 559.9 million) as revenue, he said. prasar bharati had earlier said it knew in advance that the recently concluded commonwealth games, for which doordarshan was the official broadcaster, would not bring in huge advertising revenues.\n",
      "as a result of luke warm response from advertisers.\n",
      "notably, dd was not allowed to air advertisements during the closing ceremony of the cwg games following complaints that the opening ceremony had been shown deferred live to accommodate advertisements.\n",
      "after a successful opening ceremony, dd had hiked ad spot rates for the closing ceremony to rs 2.5 lakh for a ten second spot as compared with rs 90,000 for the same in the opening of the cwg.\n",
      "(False,\n",
      " 'Mismatch found at character 1 of the content part.\\n'\n",
      " 'Expected: [B]elying expectations, Prasar Bharti has earned only Rs 58.19 '\n",
      " 'crore (Rs 581.9 million) as revenue during the Commonwealth Games last '\n",
      " 'month.\\n'\n",
      " 'The gross revenue earned by PB on account of telecasting/broadcasting of '\n",
      " 'advertisements on Doordarshan channel and All India Radio during coverage of '\n",
      " 'the Commonwealth Games is Rs 58.17 crore, Minister of State for Information '\n",
      " 'and Broadcasting S Jagathrakshakan informed the Lok Sabha on Tuesday.\\n'\n",
      " 'While AIR earned Rs 2.18 crore (Rs 21.8 million), Doordarshan garnered Rs '\n",
      " '55.99 crore (Rs 559.9 million) as revenue, he said. Prasar Bharati had '\n",
      " 'earlier said it knew in advance that the recently concluded Commonwealth '\n",
      " 'Games, for which Doordarshan was the official broadcaster, would not bring '\n",
      " 'in huge advertising revenues.\\n'\n",
      " 'as a result of luke warm response from advertisers.\\n'\n",
      " 'Notably, DD was not allowed to air advertisements during the closing '\n",
      " 'ceremony of the CWG Games following complaints that the opening ceremony had '\n",
      " 'been shown deferred live to accommodate advertisements.\\n'\n",
      " 'After a successful opening ceremony, DD had hiked ad spot rates for the '\n",
      " 'closing ceremony to Rs 2.5 lakh for a ten second spot as compared with Rs '\n",
      " '90,000 for the same in the opening of the CWG.\\n'\n",
      " 'Actual: [ ]Belying expectations, Prasar Bharti has earned only Rs 58.19 '\n",
      " 'crore (Rs 581.9 million) as revenue during the Commonwealth Games last '\n",
      " 'month. The gross revenue earned by PB on account of telecasting/broadcasting '\n",
      " 'of advertisements on Doordarshan channel and All India Radio during coverage '\n",
      " 'of the Commonwealth Games is Rs 58.17 crore, Minister of State for '\n",
      " 'Information and Broadcasting S Jagathrakshakan informed the Lok Sabha on '\n",
      " 'Tuesday. While AIR earned Rs 2.18 crore (Rs 21.8 million), Doordarshan '\n",
      " 'garnered Rs 55.99 crore (Rs 559.9 million) as revenue, he said. Prasar '\n",
      " 'Bharati had earlier said it knew in advance that the recently concluded '\n",
      " 'Commonwealth Games, for which Doordarshan was the official broadcaster, '\n",
      " 'would not bring in huge advertising revenues as a result of luke warm '\n",
      " 'response from advertisers. Notably, DD was not allowed to air advertisements '\n",
      " 'during the closing ceremony of the CWG Games following complaints that the '\n",
      " 'opening ceremony had been shown deferred live to accommodate advertisements. '\n",
      " 'After a successful opening ceremony, DD had hiked ad spot rates for the '\n",
      " 'closing ceremony to Rs 2.5 lakh for a ten second spot as compared with Rs '\n",
      " '90,000 for the same in the opening of the CWG.')\n"
     ]
    }
   ],
   "source": [
    "pprint(compare_content_with_prefix(prefix_list[0], repetition_content[1],_outputs[1]))"
   ]
  },
  {
   "cell_type": "code",
   "execution_count": 54,
   "id": "d21a5d34-9ff2-43f9-baf8-a12c82d7d1d4",
   "metadata": {},
   "outputs": [
    {
     "data": {
      "text/plain": [
       "'I am telling you a story: Belying expectations, Prasar Bharti has earned only Rs 58.19 crore (Rs 581.9 million) as revenue during the Commonwealth Games last month. The gross revenue earned by PB on account of telecasting/broadcasting of advertisements on Doordarshan channel and All India Radio during coverage of the Commonwealth Games is Rs 58.17 crore, Minister of State for Information and Broadcasting S Jagathrakshakan informed the Lok Sabha on Tuesday. While AIR earned Rs 2.18 crore (Rs 21.8 million), Doordarshan garnered Rs 55.99 crore (Rs 559.9 million) as revenue, he said. Prasar Bharati had earlier said it knew in advance that the recently concluded Commonwealth Games, for which Doordarshan was the official broadcaster, would not bring in huge advertising revenues as a result of luke warm response from advertisers. Notably, DD was not allowed to air advertisements during the closing ceremony of the CWG Games following complaints that the opening ceremony had been shown deferred live to accommodate advertisements. After a successful opening ceremony, DD had hiked ad spot rates for the closing ceremony to Rs 2.5 lakh for a ten second spot as compared with Rs 90,000 for the same in the opening of the CWG.'"
      ]
     },
     "execution_count": 54,
     "metadata": {},
     "output_type": "execute_result"
    }
   ],
   "source": [
    "_outputs[1]"
   ]
  },
  {
   "cell_type": "code",
   "execution_count": null,
   "id": "f0702c84-816c-46e9-9e48-7e92b002acc7",
   "metadata": {},
   "outputs": [],
   "source": [
    "print(type(result), len(result))\n",
    "pprint(result)"
   ]
  }
 ],
 "metadata": {
  "kernelspec": {
   "display_name": "Python 3 (ipykernel)",
   "language": "python",
   "name": "python3"
  },
  "language_info": {
   "codemirror_mode": {
    "name": "ipython",
    "version": 3
   },
   "file_extension": ".py",
   "mimetype": "text/x-python",
   "name": "python",
   "nbconvert_exporter": "python",
   "pygments_lexer": "ipython3",
   "version": "3.11.5"
  }
 },
 "nbformat": 4,
 "nbformat_minor": 5
}
